{
 "cells": [
  {
   "cell_type": "code",
   "execution_count": 41,
   "id": "b229cc10",
   "metadata": {},
   "outputs": [],
   "source": [
    "import numpy as np\n",
    "import pandas as pd\n",
    "import matplotlib.pyplot as plt\n",
    "import pandas_datareader as pdr\n",
    "import pandas_datareader.data as web\n",
    "import yfinance as yf"
   ]
  },
  {
   "cell_type": "code",
   "execution_count": 42,
   "id": "2bd01b20",
   "metadata": {},
   "outputs": [
    {
     "name": "stdout",
     "output_type": "stream",
     "text": [
      "[*********************100%***********************]  1 of 1 completed\n"
     ]
    },
    {
     "data": {
      "text/html": [
       "<div>\n",
       "<style scoped>\n",
       "    .dataframe tbody tr th:only-of-type {\n",
       "        vertical-align: middle;\n",
       "    }\n",
       "\n",
       "    .dataframe tbody tr th {\n",
       "        vertical-align: top;\n",
       "    }\n",
       "\n",
       "    .dataframe thead th {\n",
       "        text-align: right;\n",
       "    }\n",
       "</style>\n",
       "<table border=\"1\" class=\"dataframe\">\n",
       "  <thead>\n",
       "    <tr style=\"text-align: right;\">\n",
       "      <th></th>\n",
       "      <th>Open</th>\n",
       "      <th>High</th>\n",
       "      <th>Low</th>\n",
       "      <th>Close</th>\n",
       "      <th>Adj Close</th>\n",
       "      <th>Volume</th>\n",
       "    </tr>\n",
       "    <tr>\n",
       "      <th>Date</th>\n",
       "      <th></th>\n",
       "      <th></th>\n",
       "      <th></th>\n",
       "      <th></th>\n",
       "      <th></th>\n",
       "      <th></th>\n",
       "    </tr>\n",
       "  </thead>\n",
       "  <tbody>\n",
       "    <tr>\n",
       "      <th>2010-01-04</th>\n",
       "      <td>5200.899902</td>\n",
       "      <td>5238.450195</td>\n",
       "      <td>5167.100098</td>\n",
       "      <td>5232.200195</td>\n",
       "      <td>5232.200195</td>\n",
       "      <td>0</td>\n",
       "    </tr>\n",
       "    <tr>\n",
       "      <th>2010-01-05</th>\n",
       "      <td>5277.149902</td>\n",
       "      <td>5288.350098</td>\n",
       "      <td>5242.399902</td>\n",
       "      <td>5277.899902</td>\n",
       "      <td>5277.899902</td>\n",
       "      <td>0</td>\n",
       "    </tr>\n",
       "    <tr>\n",
       "      <th>2010-01-06</th>\n",
       "      <td>5278.149902</td>\n",
       "      <td>5310.850098</td>\n",
       "      <td>5260.049805</td>\n",
       "      <td>5281.799805</td>\n",
       "      <td>5281.799805</td>\n",
       "      <td>0</td>\n",
       "    </tr>\n",
       "    <tr>\n",
       "      <th>2010-01-07</th>\n",
       "      <td>5281.799805</td>\n",
       "      <td>5302.549805</td>\n",
       "      <td>5244.750000</td>\n",
       "      <td>5263.100098</td>\n",
       "      <td>5263.100098</td>\n",
       "      <td>0</td>\n",
       "    </tr>\n",
       "    <tr>\n",
       "      <th>2010-01-08</th>\n",
       "      <td>5264.250000</td>\n",
       "      <td>5276.750000</td>\n",
       "      <td>5234.700195</td>\n",
       "      <td>5244.750000</td>\n",
       "      <td>5244.750000</td>\n",
       "      <td>0</td>\n",
       "    </tr>\n",
       "  </tbody>\n",
       "</table>\n",
       "</div>"
      ],
      "text/plain": [
       "                   Open         High          Low        Close    Adj Close  \\\n",
       "Date                                                                          \n",
       "2010-01-04  5200.899902  5238.450195  5167.100098  5232.200195  5232.200195   \n",
       "2010-01-05  5277.149902  5288.350098  5242.399902  5277.899902  5277.899902   \n",
       "2010-01-06  5278.149902  5310.850098  5260.049805  5281.799805  5281.799805   \n",
       "2010-01-07  5281.799805  5302.549805  5244.750000  5263.100098  5263.100098   \n",
       "2010-01-08  5264.250000  5276.750000  5234.700195  5244.750000  5244.750000   \n",
       "\n",
       "            Volume  \n",
       "Date                \n",
       "2010-01-04       0  \n",
       "2010-01-05       0  \n",
       "2010-01-06       0  \n",
       "2010-01-07       0  \n",
       "2010-01-08       0  "
      ]
     },
     "execution_count": 42,
     "metadata": {},
     "output_type": "execute_result"
    }
   ],
   "source": [
    "start = '2010-01-01'\n",
    "end = '2023-05-18'\n",
    "df = yf.download(\"^NSEI\", start, end)\n",
    "df.head()"
   ]
  },
  {
   "cell_type": "code",
   "execution_count": 43,
   "id": "1f925fdc",
   "metadata": {},
   "outputs": [
    {
     "data": {
      "text/html": [
       "<div>\n",
       "<style scoped>\n",
       "    .dataframe tbody tr th:only-of-type {\n",
       "        vertical-align: middle;\n",
       "    }\n",
       "\n",
       "    .dataframe tbody tr th {\n",
       "        vertical-align: top;\n",
       "    }\n",
       "\n",
       "    .dataframe thead th {\n",
       "        text-align: right;\n",
       "    }\n",
       "</style>\n",
       "<table border=\"1\" class=\"dataframe\">\n",
       "  <thead>\n",
       "    <tr style=\"text-align: right;\">\n",
       "      <th></th>\n",
       "      <th>Open</th>\n",
       "      <th>High</th>\n",
       "      <th>Low</th>\n",
       "      <th>Close</th>\n",
       "      <th>Adj Close</th>\n",
       "      <th>Volume</th>\n",
       "    </tr>\n",
       "    <tr>\n",
       "      <th>Date</th>\n",
       "      <th></th>\n",
       "      <th></th>\n",
       "      <th></th>\n",
       "      <th></th>\n",
       "      <th></th>\n",
       "      <th></th>\n",
       "    </tr>\n",
       "  </thead>\n",
       "  <tbody>\n",
       "    <tr>\n",
       "      <th>2023-05-11</th>\n",
       "      <td>18357.800781</td>\n",
       "      <td>18389.699219</td>\n",
       "      <td>18270.400391</td>\n",
       "      <td>18297.000000</td>\n",
       "      <td>18297.000000</td>\n",
       "      <td>248900</td>\n",
       "    </tr>\n",
       "    <tr>\n",
       "      <th>2023-05-12</th>\n",
       "      <td>18273.750000</td>\n",
       "      <td>18342.750000</td>\n",
       "      <td>18194.550781</td>\n",
       "      <td>18314.800781</td>\n",
       "      <td>18314.800781</td>\n",
       "      <td>241700</td>\n",
       "    </tr>\n",
       "    <tr>\n",
       "      <th>2023-05-15</th>\n",
       "      <td>18339.300781</td>\n",
       "      <td>18458.900391</td>\n",
       "      <td>18287.900391</td>\n",
       "      <td>18398.849609</td>\n",
       "      <td>18398.849609</td>\n",
       "      <td>216100</td>\n",
       "    </tr>\n",
       "    <tr>\n",
       "      <th>2023-05-16</th>\n",
       "      <td>18432.349609</td>\n",
       "      <td>18432.349609</td>\n",
       "      <td>18264.349609</td>\n",
       "      <td>18286.500000</td>\n",
       "      <td>18286.500000</td>\n",
       "      <td>219500</td>\n",
       "    </tr>\n",
       "    <tr>\n",
       "      <th>2023-05-17</th>\n",
       "      <td>18300.449219</td>\n",
       "      <td>18309.000000</td>\n",
       "      <td>18115.349609</td>\n",
       "      <td>18181.750000</td>\n",
       "      <td>18181.750000</td>\n",
       "      <td>229900</td>\n",
       "    </tr>\n",
       "  </tbody>\n",
       "</table>\n",
       "</div>"
      ],
      "text/plain": [
       "                    Open          High           Low         Close  \\\n",
       "Date                                                                 \n",
       "2023-05-11  18357.800781  18389.699219  18270.400391  18297.000000   \n",
       "2023-05-12  18273.750000  18342.750000  18194.550781  18314.800781   \n",
       "2023-05-15  18339.300781  18458.900391  18287.900391  18398.849609   \n",
       "2023-05-16  18432.349609  18432.349609  18264.349609  18286.500000   \n",
       "2023-05-17  18300.449219  18309.000000  18115.349609  18181.750000   \n",
       "\n",
       "               Adj Close  Volume  \n",
       "Date                              \n",
       "2023-05-11  18297.000000  248900  \n",
       "2023-05-12  18314.800781  241700  \n",
       "2023-05-15  18398.849609  216100  \n",
       "2023-05-16  18286.500000  219500  \n",
       "2023-05-17  18181.750000  229900  "
      ]
     },
     "execution_count": 43,
     "metadata": {},
     "output_type": "execute_result"
    }
   ],
   "source": [
    "df.tail()"
   ]
  },
  {
   "cell_type": "code",
   "execution_count": 44,
   "id": "b9ea5278",
   "metadata": {},
   "outputs": [
    {
     "data": {
      "text/html": [
       "<div>\n",
       "<style scoped>\n",
       "    .dataframe tbody tr th:only-of-type {\n",
       "        vertical-align: middle;\n",
       "    }\n",
       "\n",
       "    .dataframe tbody tr th {\n",
       "        vertical-align: top;\n",
       "    }\n",
       "\n",
       "    .dataframe thead th {\n",
       "        text-align: right;\n",
       "    }\n",
       "</style>\n",
       "<table border=\"1\" class=\"dataframe\">\n",
       "  <thead>\n",
       "    <tr style=\"text-align: right;\">\n",
       "      <th></th>\n",
       "      <th>Date</th>\n",
       "      <th>Open</th>\n",
       "      <th>High</th>\n",
       "      <th>Low</th>\n",
       "      <th>Close</th>\n",
       "      <th>Adj Close</th>\n",
       "      <th>Volume</th>\n",
       "    </tr>\n",
       "  </thead>\n",
       "  <tbody>\n",
       "    <tr>\n",
       "      <th>0</th>\n",
       "      <td>2010-01-04</td>\n",
       "      <td>5200.899902</td>\n",
       "      <td>5238.450195</td>\n",
       "      <td>5167.100098</td>\n",
       "      <td>5232.200195</td>\n",
       "      <td>5232.200195</td>\n",
       "      <td>0</td>\n",
       "    </tr>\n",
       "    <tr>\n",
       "      <th>1</th>\n",
       "      <td>2010-01-05</td>\n",
       "      <td>5277.149902</td>\n",
       "      <td>5288.350098</td>\n",
       "      <td>5242.399902</td>\n",
       "      <td>5277.899902</td>\n",
       "      <td>5277.899902</td>\n",
       "      <td>0</td>\n",
       "    </tr>\n",
       "    <tr>\n",
       "      <th>2</th>\n",
       "      <td>2010-01-06</td>\n",
       "      <td>5278.149902</td>\n",
       "      <td>5310.850098</td>\n",
       "      <td>5260.049805</td>\n",
       "      <td>5281.799805</td>\n",
       "      <td>5281.799805</td>\n",
       "      <td>0</td>\n",
       "    </tr>\n",
       "    <tr>\n",
       "      <th>3</th>\n",
       "      <td>2010-01-07</td>\n",
       "      <td>5281.799805</td>\n",
       "      <td>5302.549805</td>\n",
       "      <td>5244.750000</td>\n",
       "      <td>5263.100098</td>\n",
       "      <td>5263.100098</td>\n",
       "      <td>0</td>\n",
       "    </tr>\n",
       "    <tr>\n",
       "      <th>4</th>\n",
       "      <td>2010-01-08</td>\n",
       "      <td>5264.250000</td>\n",
       "      <td>5276.750000</td>\n",
       "      <td>5234.700195</td>\n",
       "      <td>5244.750000</td>\n",
       "      <td>5244.750000</td>\n",
       "      <td>0</td>\n",
       "    </tr>\n",
       "  </tbody>\n",
       "</table>\n",
       "</div>"
      ],
      "text/plain": [
       "        Date         Open         High          Low        Close    Adj Close  \\\n",
       "0 2010-01-04  5200.899902  5238.450195  5167.100098  5232.200195  5232.200195   \n",
       "1 2010-01-05  5277.149902  5288.350098  5242.399902  5277.899902  5277.899902   \n",
       "2 2010-01-06  5278.149902  5310.850098  5260.049805  5281.799805  5281.799805   \n",
       "3 2010-01-07  5281.799805  5302.549805  5244.750000  5263.100098  5263.100098   \n",
       "4 2010-01-08  5264.250000  5276.750000  5234.700195  5244.750000  5244.750000   \n",
       "\n",
       "   Volume  \n",
       "0       0  \n",
       "1       0  \n",
       "2       0  \n",
       "3       0  \n",
       "4       0  "
      ]
     },
     "execution_count": 44,
     "metadata": {},
     "output_type": "execute_result"
    }
   ],
   "source": [
    "df = df.reset_index()\n",
    "df.head()"
   ]
  },
  {
   "cell_type": "code",
   "execution_count": 45,
   "id": "48b2d5fc",
   "metadata": {},
   "outputs": [
    {
     "data": {
      "text/html": [
       "<div>\n",
       "<style scoped>\n",
       "    .dataframe tbody tr th:only-of-type {\n",
       "        vertical-align: middle;\n",
       "    }\n",
       "\n",
       "    .dataframe tbody tr th {\n",
       "        vertical-align: top;\n",
       "    }\n",
       "\n",
       "    .dataframe thead th {\n",
       "        text-align: right;\n",
       "    }\n",
       "</style>\n",
       "<table border=\"1\" class=\"dataframe\">\n",
       "  <thead>\n",
       "    <tr style=\"text-align: right;\">\n",
       "      <th></th>\n",
       "      <th>Open</th>\n",
       "      <th>High</th>\n",
       "      <th>Low</th>\n",
       "      <th>Close</th>\n",
       "      <th>Volume</th>\n",
       "    </tr>\n",
       "  </thead>\n",
       "  <tbody>\n",
       "    <tr>\n",
       "      <th>0</th>\n",
       "      <td>5200.899902</td>\n",
       "      <td>5238.450195</td>\n",
       "      <td>5167.100098</td>\n",
       "      <td>5232.200195</td>\n",
       "      <td>0</td>\n",
       "    </tr>\n",
       "    <tr>\n",
       "      <th>1</th>\n",
       "      <td>5277.149902</td>\n",
       "      <td>5288.350098</td>\n",
       "      <td>5242.399902</td>\n",
       "      <td>5277.899902</td>\n",
       "      <td>0</td>\n",
       "    </tr>\n",
       "    <tr>\n",
       "      <th>2</th>\n",
       "      <td>5278.149902</td>\n",
       "      <td>5310.850098</td>\n",
       "      <td>5260.049805</td>\n",
       "      <td>5281.799805</td>\n",
       "      <td>0</td>\n",
       "    </tr>\n",
       "    <tr>\n",
       "      <th>3</th>\n",
       "      <td>5281.799805</td>\n",
       "      <td>5302.549805</td>\n",
       "      <td>5244.750000</td>\n",
       "      <td>5263.100098</td>\n",
       "      <td>0</td>\n",
       "    </tr>\n",
       "    <tr>\n",
       "      <th>4</th>\n",
       "      <td>5264.250000</td>\n",
       "      <td>5276.750000</td>\n",
       "      <td>5234.700195</td>\n",
       "      <td>5244.750000</td>\n",
       "      <td>0</td>\n",
       "    </tr>\n",
       "  </tbody>\n",
       "</table>\n",
       "</div>"
      ],
      "text/plain": [
       "          Open         High          Low        Close  Volume\n",
       "0  5200.899902  5238.450195  5167.100098  5232.200195       0\n",
       "1  5277.149902  5288.350098  5242.399902  5277.899902       0\n",
       "2  5278.149902  5310.850098  5260.049805  5281.799805       0\n",
       "3  5281.799805  5302.549805  5244.750000  5263.100098       0\n",
       "4  5264.250000  5276.750000  5234.700195  5244.750000       0"
      ]
     },
     "execution_count": 45,
     "metadata": {},
     "output_type": "execute_result"
    }
   ],
   "source": [
    "df = df.drop(['Date', 'Adj Close'], axis = 1)   ##Dropping unwanted cols\n",
    "df.head()"
   ]
  },
  {
   "cell_type": "code",
   "execution_count": 46,
   "id": "1960708d",
   "metadata": {},
   "outputs": [
    {
     "data": {
      "text/plain": [
       "[<matplotlib.lines.Line2D at 0x228983ebf40>]"
      ]
     },
     "execution_count": 46,
     "metadata": {},
     "output_type": "execute_result"
    },
    {
     "data": {
      "image/png": "[encoded data removed]",
      "text/plain": [
       "<Figure size 864x432 with 1 Axes>"
      ]
     },
     "metadata": {
      "needs_background": "light"
     },
     "output_type": "display_data"
    }
   ],
   "source": [
    "plt.figure(figsize = (12, 6))\n",
    "plt.plot(df.Close)"
   ]
  },
  {
   "cell_type": "code",
   "execution_count": 47,
   "id": "dd851043",
   "metadata": {},
   "outputs": [
    {
     "data": {
      "text/plain": [
       "(3280, 5)"
      ]
     },
     "execution_count": 47,
     "metadata": {},
     "output_type": "execute_result"
    }
   ],
   "source": [
    "df.shape"
   ]
  },
  {
   "cell_type": "code",
   "execution_count": 48,
   "id": "efaae477",
   "metadata": {},
   "outputs": [],
   "source": [
    "data_training = pd.DataFrame(df['Close'][0:int(len(df)*0.80)])\n",
    "\n",
    "data_testing = pd.DataFrame(df['Close'][int(len(df)*0.80): int(len(df))])"
   ]
  },
  {
   "cell_type": "code",
   "execution_count": 49,
   "id": "80167b71",
   "metadata": {},
   "outputs": [
    {
     "name": "stdout",
     "output_type": "stream",
     "text": [
      "(2624, 1)\n",
      "(656, 1)\n"
     ]
    },
    {
     "data": {
      "text/plain": [
       "(None, None)"
      ]
     },
     "execution_count": 49,
     "metadata": {},
     "output_type": "execute_result"
    }
   ],
   "source": [
    "print(data_training.shape), print(data_testing.shape)"
   ]
  },
  {
   "cell_type": "code",
   "execution_count": 50,
   "id": "66e8e89c",
   "metadata": {},
   "outputs": [],
   "source": [
    "from sklearn.preprocessing import MinMaxScaler\n",
    "scaler = MinMaxScaler(feature_range = (0,1))"
   ]
  },
  {
   "cell_type": "code",
   "execution_count": 51,
   "id": "21b31ed8",
   "metadata": {},
   "outputs": [],
   "source": [
    "data_training_array = scaler.fit_transform(data_training)"
   ]
  },
  {
   "cell_type": "code",
   "execution_count": 52,
   "id": "b95a4037",
   "metadata": {},
   "outputs": [],
   "source": [
    "x_train = []\n",
    "y_train = []\n",
    "\n",
    "for i in range(100, data_training_array.shape[0]):\n",
    "    x_train.append(data_training_array[i-100: i])\n",
    "    y_train.append(data_training_array[i, 0])\n",
    "    \n",
    "x_train, y_train = np.array(x_train), np.array(y_train)"
   ]
  },
  {
   "cell_type": "code",
   "execution_count": 53,
   "id": "6591ba9b",
   "metadata": {},
   "outputs": [],
   "source": [
    "past_100_days = data_training.tail(100)"
   ]
  },
  {
   "cell_type": "code",
   "execution_count": 54,
   "id": "be0d15fd",
   "metadata": {},
   "outputs": [
    {
     "name": "stderr",
     "output_type": "stream",
     "text": [
      "C:\\Users\\anubh\\AppData\\Local\\Temp\\ipykernel_14320\\3299050086.py:1: FutureWarning: The frame.append method is deprecated and will be removed from pandas in a future version. Use pandas.concat instead.\n",
      "  final_df = past_100_days.append(data_testing, ignore_index = True)\n"
     ]
    }
   ],
   "source": [
    "final_df = past_100_days.append(data_testing, ignore_index = True)"
   ]
  },
  {
   "cell_type": "code",
   "execution_count": 55,
   "id": "a9c16580",
   "metadata": {},
   "outputs": [],
   "source": [
    "input_data = scaler.fit_transform(final_df)"
   ]
  },
  {
   "cell_type": "code",
   "execution_count": 56,
   "id": "1d6576a9",
   "metadata": {},
   "outputs": [],
   "source": [
    "x_test = []\n",
    "y_test = []\n",
    "\n",
    "test_data = df['Close']\n",
    "test_data_array = test_data.to_numpy()\n",
    "test_data_array = scaler.fit_transform(test_data_array.reshape(-1,1))\n",
    "\n",
    "for i in range(100, test_data_array.shape[0]):\n",
    "    x_test.append(test_data_array[i-100: i])\n",
    "    y_test.append(test_data_array[i])"
   ]
  },
  {
   "cell_type": "code",
   "execution_count": 57,
   "id": "5a5b5d4b",
   "metadata": {},
   "outputs": [],
   "source": [
    "x_test, y_test = np.array(x_test), np.array(y_test)"
   ]
  },
  {
   "cell_type": "code",
   "execution_count": 58,
   "id": "ae8c5b00",
   "metadata": {},
   "outputs": [],
   "source": [
    "from tensorflow import keras\n",
    "from keras.layers import Dense, Dropout, LSTM\n",
    "from keras.models import Sequential\n",
    "from tensorflow.keras.callbacks import EarlyStopping"
   ]
  },
  {
   "cell_type": "code",
   "execution_count": 59,
   "id": "bc5c42bd",
   "metadata": {},
   "outputs": [],
   "source": [
    "model = Sequential()\n",
    "model.add(LSTM(units = 100, activation = 'relu', return_sequences = True, input_shape = (x_train.shape[1], 1)))\n",
    "model.add(Dropout(0.2)) \n",
    "\n",
    "model.add(LSTM(units = 67, activation = 'relu', return_sequences = True))\n",
    "model.add(Dropout(0.3))\n",
    "\n",
    "model.add(LSTM(units = 45, activation = 'relu', return_sequences = True))\n",
    "model.add(Dropout(0.4))\n",
    "\n",
    "model.add(LSTM(units = 29, activation = 'relu'))\n",
    "model.add(Dropout(0.5))\n",
    "\n",
    "model.add(Dense(units = 1))"
   ]
  },
  {
   "cell_type": "code",
   "execution_count": 60,
   "id": "6850aeac",
   "metadata": {},
   "outputs": [
    {
     "name": "stdout",
     "output_type": "stream",
     "text": [
      "Epoch 1/50\n",
      "79/79 [==============================] - 25s 222ms/step - loss: 0.0515 - val_loss: 0.0071\n",
      "Epoch 2/50\n",
      "79/79 [==============================] - 23s 293ms/step - loss: 0.0218 - val_loss: 0.0019\n",
      "Epoch 3/50\n",
      "79/79 [==============================] - 23s 292ms/step - loss: 0.0183 - val_loss: 0.0041\n",
      "Epoch 4/50\n",
      "79/79 [==============================] - 23s 291ms/step - loss: 0.0180 - val_loss: 0.0026\n",
      "Epoch 5/50\n",
      "79/79 [==============================] - 23s 291ms/step - loss: 0.0150 - val_loss: 0.0022\n",
      "Epoch 6/50\n",
      "79/79 [==============================] - 23s 291ms/step - loss: 0.0148 - val_loss: 0.0024\n",
      "Epoch 7/50\n",
      "79/79 [==============================] - 23s 292ms/step - loss: 0.0127 - val_loss: 0.0018\n",
      "Epoch 8/50\n",
      "79/79 [==============================] - 23s 292ms/step - loss: 0.0117 - val_loss: 0.0013\n",
      "Epoch 9/50\n",
      "79/79 [==============================] - 20s 255ms/step - loss: 0.0110 - val_loss: 0.0026\n",
      "Epoch 10/50\n",
      "79/79 [==============================] - 21s 268ms/step - loss: 0.0104 - val_loss: 0.0017\n",
      "Epoch 11/50\n",
      "79/79 [==============================] - 23s 294ms/step - loss: 0.0099 - val_loss: 9.3076e-04\n",
      "Epoch 12/50\n",
      "79/79 [==============================] - 18s 234ms/step - loss: 0.0082 - val_loss: 0.0016\n",
      "Epoch 13/50\n",
      "79/79 [==============================] - 20s 256ms/step - loss: 0.0095 - val_loss: 0.0021\n",
      "Epoch 14/50\n",
      "79/79 [==============================] - 19s 240ms/step - loss: 0.0081 - val_loss: 0.0012\n",
      "Epoch 15/50\n",
      "79/79 [==============================] - 17s 211ms/step - loss: 0.0084 - val_loss: 0.0034\n",
      "Epoch 16/50\n",
      "79/79 [==============================] - 17s 221ms/step - loss: 0.0087 - val_loss: 0.0028\n",
      "Epoch 17/50\n",
      "79/79 [==============================] - 20s 248ms/step - loss: 0.0078 - val_loss: 0.0012\n",
      "Epoch 18/50\n",
      "79/79 [==============================] - 20s 257ms/step - loss: 0.0077 - val_loss: 0.0018\n",
      "Epoch 19/50\n",
      "79/79 [==============================] - 16s 197ms/step - loss: 0.0074 - val_loss: 0.0017\n",
      "Epoch 20/50\n",
      "79/79 [==============================] - 15s 196ms/step - loss: 0.0069 - val_loss: 0.0011\n",
      "Epoch 21/50\n",
      "79/79 [==============================] - 18s 224ms/step - loss: 0.0073 - val_loss: 0.0017\n",
      "Epoch 22/50\n",
      "79/79 [==============================] - 19s 243ms/step - loss: 0.0077 - val_loss: 0.0018\n",
      "Epoch 23/50\n",
      "79/79 [==============================] - 18s 227ms/step - loss: 0.0080 - val_loss: 0.0011\n",
      "Epoch 23: early stopping\n"
     ]
    },
    {
     "data": {
      "text/plain": [
       "<keras.callbacks.History at 0x2289824b5b0>"
      ]
     },
     "execution_count": 60,
     "metadata": {},
     "output_type": "execute_result"
    }
   ],
   "source": [
    "early_stop = EarlyStopping(monitor = \"loss\", verbose = 1, mode = 'min', patience = 3)\n",
    "\n",
    "model.compile(optimizer = 'adam', loss = 'mean_squared_error')\n",
    "\n",
    "model.fit(x_train, y_train, epochs = 50, validation_data = (x_test,y_test), callbacks=[early_stop])"
   ]
  },
  {
   "cell_type": "code",
   "execution_count": 61,
   "id": "c9ad4732",
   "metadata": {},
   "outputs": [
    {
     "data": {
      "text/plain": [
       "[<matplotlib.lines.Line2D at 0x2289ff390f0>]"
      ]
     },
     "execution_count": 61,
     "metadata": {},
     "output_type": "execute_result"
    },
    {
     "data": {
      "image/png": "[encoded data removed]",
      "text/plain": [
       "<Figure size 432x288 with 1 Axes>"
      ]
     },
     "metadata": {
      "needs_background": "light"
     },
     "output_type": "display_data"
    }
   ],
   "source": [
    "loss = model.history.history['loss']\n",
    "plt.plot(loss)"
   ]
  },
  {
   "cell_type": "code",
   "execution_count": 62,
   "id": "9bf36b8a",
   "metadata": {},
   "outputs": [
    {
     "name": "stdout",
     "output_type": "stream",
     "text": [
      "100/100 [==============================] - 7s 67ms/step\n"
     ]
    }
   ],
   "source": [
    "y_predicted = model.predict(x_test)"
   ]
  },
  {
   "cell_type": "code",
   "execution_count": 63,
   "id": "66c88dc5",
   "metadata": {},
   "outputs": [
    {
     "data": {
      "text/plain": [
       "(3180, 1)"
      ]
     },
     "execution_count": 63,
     "metadata": {},
     "output_type": "execute_result"
    }
   ],
   "source": [
    "y_predicted.shape"
   ]
  },
  {
   "cell_type": "code",
   "execution_count": 64,
   "id": "2702fbdd",
   "metadata": {},
   "outputs": [
    {
     "data": {
      "text/plain": [
       "array([[0.0298564 ],\n",
       "       [0.03333613],\n",
       "       [0.03968937],\n",
       "       ...,\n",
       "       [0.97100913],\n",
       "       [0.96313506],\n",
       "       [0.95579361]])"
      ]
     },
     "execution_count": 64,
     "metadata": {},
     "output_type": "execute_result"
    }
   ],
   "source": [
    "y_test"
   ]
  },
  {
   "cell_type": "code",
   "execution_count": 65,
   "id": "5213c5cd",
   "metadata": {},
   "outputs": [
    {
     "data": {
      "text/plain": [
       "array([[0.07907718],\n",
       "       [0.07834971],\n",
       "       [0.07792389],\n",
       "       ...,\n",
       "       [0.9270715 ],\n",
       "       [0.9294393 ],\n",
       "       [0.9316293 ]], dtype=float32)"
      ]
     },
     "execution_count": 65,
     "metadata": {},
     "output_type": "execute_result"
    }
   ],
   "source": [
    "y_predicted"
   ]
  },
  {
   "cell_type": "code",
   "execution_count": 66,
   "id": "7c0cde3c",
   "metadata": {},
   "outputs": [],
   "source": [
    "y_predicted = scaler.inverse_transform(y_predicted)\n",
    "y_test = scaler.inverse_transform(y_test)"
   ]
  },
  {
   "cell_type": "code",
   "execution_count": 67,
   "id": "ed738271",
   "metadata": {},
   "outputs": [
    {
     "data": {
      "image/png": "[encoded data removed]",
      "text/plain": [
       "<Figure size 864x432 with 1 Axes>"
      ]
     },
     "metadata": {
      "needs_background": "light"
     },
     "output_type": "display_data"
    }
   ],
   "source": [
    "plt.figure(figsize = (12,6))\n",
    "plt.plot(y_test, 'b', label = 'Original Prcice')\n",
    "plt.plot(y_predicted, 'r', label = 'Predicted Price')\n",
    "plt.xlabel('Time')\n",
    "plt.ylabel('Price')\n",
    "plt.legend()\n",
    "plt.show()"
   ]
  },
  {
   "cell_type": "code",
   "execution_count": 68,
   "id": "afd27770",
   "metadata": {},
   "outputs": [
    {
     "data": {
      "text/plain": [
       "((2524, 100, 1), (3180, 1))"
      ]
     },
     "execution_count": 68,
     "metadata": {},
     "output_type": "execute_result"
    }
   ],
   "source": [
    "x_train.shape , y_test.shape"
   ]
  },
  {
   "cell_type": "code",
   "execution_count": 69,
   "id": "12d79382",
   "metadata": {},
   "outputs": [],
   "source": [
    "a = data_testing.tail(100)\n",
    "a_array = scaler.fit_transform(a)\n",
    "fut_inp = a_array.reshape(1,-1)\n",
    "tmp_inp = list(fut_inp[0])"
   ]
  },
  {
   "cell_type": "code",
   "execution_count": 70,
   "id": "414b82c1",
   "metadata": {},
   "outputs": [
    {
     "data": {
      "text/plain": [
       "100"
      ]
     },
     "execution_count": 70,
     "metadata": {},
     "output_type": "execute_result"
    }
   ],
   "source": [
    "len(tmp_inp)"
   ]
  },
  {
   "cell_type": "code",
   "execution_count": 71,
   "id": "70ac3982",
   "metadata": {},
   "outputs": [
    {
     "name": "stdout",
     "output_type": "stream",
     "text": [
      "[0.8013134002685547, [0.8234551548957825], [0.8406627178192139], [0.8528926372528076], [0.8606448173522949], [0.8646823763847351], [0.8660287261009216], [0.8656808733940125], [0.8643999099731445], [0.8627822399139404], [0.8612330555915833], [0.8599852919578552], [0.8591352701187134], [0.8586832284927368], [0.85857093334198], [0.8587141633033752], [0.8590246438980103], [0.8594245910644531], [0.8598541021347046], [0.8602722883224487], [0.8606559038162231], [0.8609951734542847], [0.8612903356552124], [0.8615472316741943], [0.8617740869522095], [0.8619794845581055], [0.8621708154678345], [0.8623536825180054], [0.8625317215919495], [0.8627071380615234], [0.8628804683685303]]\n"
     ]
    }
   ],
   "source": [
    "lst_output = list()\n",
    "n_steps = 100\n",
    "i = 0\n",
    "while(i<31): \n",
    "    if(len(tmp_inp) > 100):\n",
    "        fut_inp = np.array(tmp_inp[1:])\n",
    "        fut_inp = fut_inp.reshape(1,-1)\n",
    "        fut_inp = fut_inp.reshape((1, n_steps, 1))\n",
    "        yhat = model.predict(fut_inp, verbose = 0)\n",
    "        tmp_inp.extend(yhat[0].tolist())\n",
    "        tmp_inp = tmp_inp[1:]\n",
    "        lst_output.extend(yhat.tolist())\n",
    "        i=i+1\n",
    "    else:\n",
    "        fut_inp = fut_inp.reshape((1, n_steps, 1))\n",
    "        yhat = model.predict(fut_inp,verbose=0)\n",
    "        tmp_inp.extend(yhat[0].tolist())\n",
    "        lst_output.extend(yhat[0].tolist())\n",
    "        i=i+1\n",
    "        \n",
    "print(lst_output)"
   ]
  },
  {
   "cell_type": "code",
   "execution_count": 72,
   "id": "2ee92433",
   "metadata": {},
   "outputs": [
    {
     "data": {
      "text/plain": [
       "31"
      ]
     },
     "execution_count": 72,
     "metadata": {},
     "output_type": "execute_result"
    }
   ],
   "source": [
    "len(lst_output)"
   ]
  },
  {
   "cell_type": "code",
   "execution_count": 73,
   "id": "f1c62952",
   "metadata": {},
   "outputs": [],
   "source": [
    "final_output = []"
   ]
  },
  {
   "cell_type": "code",
   "execution_count": 74,
   "id": "36fd4586",
   "metadata": {},
   "outputs": [],
   "source": [
    "for i in range(1,31) :\n",
    "    final_output.append(lst_output[i][0])"
   ]
  },
  {
   "cell_type": "code",
   "execution_count": 75,
   "id": "9cd835df",
   "metadata": {},
   "outputs": [],
   "source": [
    "final_output2 = np.array(final_output)"
   ]
  },
  {
   "cell_type": "code",
   "execution_count": 76,
   "id": "ac2ad32d",
   "metadata": {},
   "outputs": [],
   "source": [
    "final_output2 = final_output2.reshape(-1,1)"
   ]
  },
  {
   "cell_type": "code",
   "execution_count": 77,
   "id": "836796da",
   "metadata": {},
   "outputs": [
    {
     "data": {
      "text/plain": [
       "(30, 1)"
      ]
     },
     "execution_count": 77,
     "metadata": {},
     "output_type": "execute_result"
    }
   ],
   "source": [
    "final_output2.shape"
   ]
  },
  {
   "cell_type": "code",
   "execution_count": 78,
   "id": "8a496d22",
   "metadata": {},
   "outputs": [],
   "source": [
    "final_output3 = scaler.inverse_transform(final_output2)"
   ]
  },
  {
   "cell_type": "code",
   "execution_count": 79,
   "id": "59e1e86f",
   "metadata": {},
   "outputs": [
    {
     "data": {
      "text/plain": [
       "[<matplotlib.lines.Line2D at 0x228a124e7d0>]"
      ]
     },
     "execution_count": 79,
     "metadata": {},
     "output_type": "execute_result"
    },
    {
     "data": {
      "image/png": "[encoded data removed]",
      "text/plain": [
       "<Figure size 864x432 with 1 Axes>"
      ]
     },
     "metadata": {
      "needs_background": "light"
     },
     "output_type": "display_data"
    }
   ],
   "source": [
    "plt.figure(figsize = (12,6))\n",
    "plt.plot(final_output3, 'b', label = 'Original Prcice')"
   ]
  },
  {
   "cell_type": "code",
   "execution_count": 80,
   "id": "2ddc4d91",
   "metadata": {},
   "outputs": [
    {
     "name": "stdout",
     "output_type": "stream",
     "text": [
      "R2 Score:  0.9864532606549925\n",
      "MAE:  366.7768715912441\n"
     ]
    }
   ],
   "source": [
    "from sklearn.metrics import mean_squared_error, r2_score, mean_absolute_error\n",
    "print('R2 Score: ', r2_score(y_test, y_predicted))\n",
    "print('MAE: ', mean_absolute_error(y_test, y_predicted))"
   ]
  },
  {
   "cell_type": "code",
   "execution_count": null,
   "id": "dcd20c2d",
   "metadata": {},
   "outputs": [],
   "source": []
  }
 ],
 "metadata": {
  "kernelspec": {
   "display_name": "Python 3 (ipykernel)",
   "language": "python",
   "name": "python3"
  },
  "language_info": {
   "codemirror_mode": {
    "name": "ipython",
    "version": 3
   },
   "file_extension": ".py",
   "mimetype": "text/x-python",
   "name": "python",
   "nbconvert_exporter": "python",
   "pygments_lexer": "ipython3",
   "version": "3.10.2"
  }
 },
 "nbformat": 4,
 "nbformat_minor": 5
}
